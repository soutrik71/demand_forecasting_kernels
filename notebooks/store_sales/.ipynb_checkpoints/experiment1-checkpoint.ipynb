{
 "cells": [
  {
   "cell_type": "markdown",
   "metadata": {},
   "source": [
    "In this notebook we will experiment with store sales data"
   ]
  },
  {
   "cell_type": "code",
   "execution_count": 1,
   "metadata": {},
   "outputs": [
    {
     "data": {
      "application/javascript": [
       "IPython.notebook.set_autosave_interval(300000)"
      ]
     },
     "metadata": {},
     "output_type": "display_data"
    },
    {
     "name": "stdout",
     "output_type": "stream",
     "text": [
      "Autosaving every 300 seconds\n"
     ]
    }
   ],
   "source": [
    "%autosave 300\n",
    "%reload_ext autoreload\n",
    "%config Completer.use_jedi = False"
   ]
  },
  {
   "cell_type": "code",
   "execution_count": 2,
   "metadata": {},
   "outputs": [
    {
     "name": "stdout",
     "output_type": "stream",
     "text": [
      "/mnt/batch/tasks/shared/LS_root/mounts/clusters/copilot-model-run/code/Users/Soutrik.Chowdhury/demand_forecasting_kernels\n"
     ]
    }
   ],
   "source": [
    "import os\n",
    "\n",
    "os.chdir(\n",
    "    r\"/mnt/batch/tasks/shared/LS_root/mounts/clusters/copilot-model-run/code/Users/Soutrik.Chowdhury/demand_forecasting_kernels\"\n",
    ")\n",
    "print(os.getcwd())"
   ]
  },
  {
   "cell_type": "code",
   "execution_count": 3,
   "metadata": {},
   "outputs": [],
   "source": [
    "import pandas as pd\n",
    "import numpy as np\n",
    "import matplotlib.pyplot as plt\n",
    "import seaborn as sns\n",
    "from sklearn.preprocessing import StandardScaler\n",
    "from sklearn.model_selection import train_test_split\n",
    "from sklearn.metrics import mean_squared_error\n",
    "pd.set_option(\"display.max_columns\", None)\n",
    "pd.set_option(\"display.max_rows\", None)\n",
    "pd.set_option(\"display.width\", None)\n",
    "pd.set_option(\"display.max_colwidth\", None)"
   ]
  },
  {
   "cell_type": "code",
   "execution_count": 4,
   "metadata": {},
   "outputs": [],
   "source": [
    "train_df = pd.read_csv(r\"data/demand-forecasting-kernels-only/train.csv\")\n",
    "test_df = pd.read_csv(r\"data/demand-forecasting-kernels-only/test.csv\")"
   ]
  },
  {
   "cell_type": "code",
   "execution_count": 5,
   "metadata": {},
   "outputs": [
    {
     "name": "stdout",
     "output_type": "stream",
     "text": [
      "Store level summary\n",
      "  store        date                    \n",
      "                min         max nunique\n",
      "0     1  2013-01-01  2017-12-31    1826\n",
      "1     2  2013-01-01  2017-12-31    1826\n",
      "2     3  2013-01-01  2017-12-31    1826\n",
      "3     4  2013-01-01  2017-12-31    1826\n",
      "4     5  2013-01-01  2017-12-31    1826\n",
      "5     6  2013-01-01  2017-12-31    1826\n",
      "6     7  2013-01-01  2017-12-31    1826\n",
      "7     8  2013-01-01  2017-12-31    1826\n",
      "8     9  2013-01-01  2017-12-31    1826\n",
      "9    10  2013-01-01  2017-12-31    1826\n",
      "  store        date                    \n",
      "                min         max nunique\n",
      "0     1  2018-01-01  2018-03-31      90\n",
      "1     2  2018-01-01  2018-03-31      90\n",
      "2     3  2018-01-01  2018-03-31      90\n",
      "3     4  2018-01-01  2018-03-31      90\n",
      "4     5  2018-01-01  2018-03-31      90\n",
      "5     6  2018-01-01  2018-03-31      90\n",
      "6     7  2018-01-01  2018-03-31      90\n",
      "7     8  2018-01-01  2018-03-31      90\n",
      "8     9  2018-01-01  2018-03-31      90\n",
      "9    10  2018-01-01  2018-03-31      90\n"
     ]
    }
   ],
   "source": [
    "print(\"Store level summary\")\n",
    "print(\n",
    "    train_df.groupby([\"store\"], as_index=False).agg({\"date\": [\"min\", \"max\", \"nunique\"]})\n",
    ")\n",
    "print(\n",
    "    test_df.groupby([\"store\"], as_index=False).agg({\"date\": [\"min\", \"max\", \"nunique\"]})\n",
    ")"
   ]
  },
  {
   "cell_type": "code",
   "execution_count": 6,
   "metadata": {},
   "outputs": [
    {
     "name": "stdout",
     "output_type": "stream",
     "text": [
      "Item level summary\n",
      "   item        date                    \n",
      "                min         max nunique\n",
      "0     1  2013-01-01  2017-12-31    1826\n",
      "1     2  2013-01-01  2017-12-31    1826\n",
      "2     3  2013-01-01  2017-12-31    1826\n",
      "3     4  2013-01-01  2017-12-31    1826\n",
      "4     5  2013-01-01  2017-12-31    1826\n",
      "5     6  2013-01-01  2017-12-31    1826\n",
      "6     7  2013-01-01  2017-12-31    1826\n",
      "7     8  2013-01-01  2017-12-31    1826\n",
      "8     9  2013-01-01  2017-12-31    1826\n",
      "9    10  2013-01-01  2017-12-31    1826\n",
      "10   11  2013-01-01  2017-12-31    1826\n",
      "11   12  2013-01-01  2017-12-31    1826\n",
      "12   13  2013-01-01  2017-12-31    1826\n",
      "13   14  2013-01-01  2017-12-31    1826\n",
      "14   15  2013-01-01  2017-12-31    1826\n",
      "15   16  2013-01-01  2017-12-31    1826\n",
      "16   17  2013-01-01  2017-12-31    1826\n",
      "17   18  2013-01-01  2017-12-31    1826\n",
      "18   19  2013-01-01  2017-12-31    1826\n",
      "19   20  2013-01-01  2017-12-31    1826\n",
      "20   21  2013-01-01  2017-12-31    1826\n",
      "21   22  2013-01-01  2017-12-31    1826\n",
      "22   23  2013-01-01  2017-12-31    1826\n",
      "23   24  2013-01-01  2017-12-31    1826\n",
      "24   25  2013-01-01  2017-12-31    1826\n",
      "25   26  2013-01-01  2017-12-31    1826\n",
      "26   27  2013-01-01  2017-12-31    1826\n",
      "27   28  2013-01-01  2017-12-31    1826\n",
      "28   29  2013-01-01  2017-12-31    1826\n",
      "29   30  2013-01-01  2017-12-31    1826\n",
      "30   31  2013-01-01  2017-12-31    1826\n",
      "31   32  2013-01-01  2017-12-31    1826\n",
      "32   33  2013-01-01  2017-12-31    1826\n",
      "33   34  2013-01-01  2017-12-31    1826\n",
      "34   35  2013-01-01  2017-12-31    1826\n",
      "35   36  2013-01-01  2017-12-31    1826\n",
      "36   37  2013-01-01  2017-12-31    1826\n",
      "37   38  2013-01-01  2017-12-31    1826\n",
      "38   39  2013-01-01  2017-12-31    1826\n",
      "39   40  2013-01-01  2017-12-31    1826\n",
      "40   41  2013-01-01  2017-12-31    1826\n",
      "41   42  2013-01-01  2017-12-31    1826\n",
      "42   43  2013-01-01  2017-12-31    1826\n",
      "43   44  2013-01-01  2017-12-31    1826\n",
      "44   45  2013-01-01  2017-12-31    1826\n",
      "45   46  2013-01-01  2017-12-31    1826\n",
      "46   47  2013-01-01  2017-12-31    1826\n",
      "47   48  2013-01-01  2017-12-31    1826\n",
      "48   49  2013-01-01  2017-12-31    1826\n",
      "49   50  2013-01-01  2017-12-31    1826\n",
      "   item        date                    \n",
      "                min         max nunique\n",
      "0     1  2018-01-01  2018-03-31      90\n",
      "1     2  2018-01-01  2018-03-31      90\n",
      "2     3  2018-01-01  2018-03-31      90\n",
      "3     4  2018-01-01  2018-03-31      90\n",
      "4     5  2018-01-01  2018-03-31      90\n",
      "5     6  2018-01-01  2018-03-31      90\n",
      "6     7  2018-01-01  2018-03-31      90\n",
      "7     8  2018-01-01  2018-03-31      90\n",
      "8     9  2018-01-01  2018-03-31      90\n",
      "9    10  2018-01-01  2018-03-31      90\n",
      "10   11  2018-01-01  2018-03-31      90\n",
      "11   12  2018-01-01  2018-03-31      90\n",
      "12   13  2018-01-01  2018-03-31      90\n",
      "13   14  2018-01-01  2018-03-31      90\n",
      "14   15  2018-01-01  2018-03-31      90\n",
      "15   16  2018-01-01  2018-03-31      90\n",
      "16   17  2018-01-01  2018-03-31      90\n",
      "17   18  2018-01-01  2018-03-31      90\n",
      "18   19  2018-01-01  2018-03-31      90\n",
      "19   20  2018-01-01  2018-03-31      90\n",
      "20   21  2018-01-01  2018-03-31      90\n",
      "21   22  2018-01-01  2018-03-31      90\n",
      "22   23  2018-01-01  2018-03-31      90\n",
      "23   24  2018-01-01  2018-03-31      90\n",
      "24   25  2018-01-01  2018-03-31      90\n",
      "25   26  2018-01-01  2018-03-31      90\n",
      "26   27  2018-01-01  2018-03-31      90\n",
      "27   28  2018-01-01  2018-03-31      90\n",
      "28   29  2018-01-01  2018-03-31      90\n",
      "29   30  2018-01-01  2018-03-31      90\n",
      "30   31  2018-01-01  2018-03-31      90\n",
      "31   32  2018-01-01  2018-03-31      90\n",
      "32   33  2018-01-01  2018-03-31      90\n",
      "33   34  2018-01-01  2018-03-31      90\n",
      "34   35  2018-01-01  2018-03-31      90\n",
      "35   36  2018-01-01  2018-03-31      90\n",
      "36   37  2018-01-01  2018-03-31      90\n",
      "37   38  2018-01-01  2018-03-31      90\n",
      "38   39  2018-01-01  2018-03-31      90\n",
      "39   40  2018-01-01  2018-03-31      90\n",
      "40   41  2018-01-01  2018-03-31      90\n",
      "41   42  2018-01-01  2018-03-31      90\n",
      "42   43  2018-01-01  2018-03-31      90\n",
      "43   44  2018-01-01  2018-03-31      90\n",
      "44   45  2018-01-01  2018-03-31      90\n",
      "45   46  2018-01-01  2018-03-31      90\n",
      "46   47  2018-01-01  2018-03-31      90\n",
      "47   48  2018-01-01  2018-03-31      90\n",
      "48   49  2018-01-01  2018-03-31      90\n",
      "49   50  2018-01-01  2018-03-31      90\n"
     ]
    }
   ],
   "source": [
    "print(\"Item level summary\")\n",
    "print(train_df.groupby([\"item\"], as_index=False).agg({\"date\": [\"min\", \"max\", \"nunique\"]}))\n",
    "print(test_df.groupby([\"item\"], as_index=False).agg({\"date\": [\"min\", \"max\", \"nunique\"]}))"
   ]
  },
  {
   "cell_type": "markdown",
   "metadata": {},
   "source": [
    "##### basic pre-processing"
   ]
  },
  {
   "cell_type": "code",
   "execution_count": 7,
   "metadata": {},
   "outputs": [
    {
     "name": "stdout",
     "output_type": "stream",
     "text": [
      "(958000, 5)\n"
     ]
    }
   ],
   "source": [
    "full_df = pd.concat([train_df, test_df], axis=0)\n",
    "print(full_df.shape)"
   ]
  },
  {
   "cell_type": "code",
   "execution_count": 8,
   "metadata": {},
   "outputs": [],
   "source": [
    "full_df[\"date\"] = pd.to_datetime(full_df[\"date\"], format=\"%Y-%m-%d\", errors=\"coerce\")\n",
    "full_df[\"store\"] = full_df[\"store\"].astype(\"object\")\n",
    "full_df[\"item\"] = full_df[\"item\"].astype(\"object\")\n",
    "full_df[\"sales\"] = full_df[\"sales\"].astype(np.float32)"
   ]
  },
  {
   "cell_type": "code",
   "execution_count": 9,
   "metadata": {},
   "outputs": [],
   "source": [
    "full_df = full_df.drop(['id'],axis=1)"
   ]
  },
  {
   "cell_type": "code",
   "execution_count": 10,
   "metadata": {},
   "outputs": [
    {
     "name": "stdout",
     "output_type": "stream",
     "text": [
      "date         0\n",
      "store        0\n",
      "item         0\n",
      "sales    45000\n",
      "dtype: int64\n"
     ]
    }
   ],
   "source": [
    "print(full_df.isnull().sum())"
   ]
  },
  {
   "cell_type": "markdown",
   "metadata": {},
   "source": [
    "#### Creating basic date features -- Daily data"
   ]
  },
  {
   "cell_type": "code",
   "execution_count": 21,
   "metadata": {},
   "outputs": [
    {
     "data": {
      "text/html": [
       "<div>\n",
       "<style scoped>\n",
       "    .dataframe tbody tr th:only-of-type {\n",
       "        vertical-align: middle;\n",
       "    }\n",
       "\n",
       "    .dataframe tbody tr th {\n",
       "        vertical-align: top;\n",
       "    }\n",
       "\n",
       "    .dataframe thead th {\n",
       "        text-align: right;\n",
       "    }\n",
       "</style>\n",
       "<table border=\"1\" class=\"dataframe\">\n",
       "  <thead>\n",
       "    <tr style=\"text-align: right;\">\n",
       "      <th></th>\n",
       "      <th>date</th>\n",
       "      <th>store</th>\n",
       "      <th>item</th>\n",
       "      <th>sales</th>\n",
       "      <th>year</th>\n",
       "      <th>month</th>\n",
       "      <th>day_of_the_year</th>\n",
       "      <th>week_of_the_year</th>\n",
       "      <th>day_of_the_week</th>\n",
       "      <th>is_weekend</th>\n",
       "      <th>is_month_start</th>\n",
       "      <th>is_month_end</th>\n",
       "    </tr>\n",
       "  </thead>\n",
       "  <tbody>\n",
       "    <tr>\n",
       "      <th>0</th>\n",
       "      <td>2013-01-01</td>\n",
       "      <td>1</td>\n",
       "      <td>1</td>\n",
       "      <td>13.0</td>\n",
       "      <td>2013</td>\n",
       "      <td>1</td>\n",
       "      <td>1</td>\n",
       "      <td>1</td>\n",
       "      <td>1</td>\n",
       "      <td>0</td>\n",
       "      <td>1</td>\n",
       "      <td>0</td>\n",
       "    </tr>\n",
       "    <tr>\n",
       "      <th>1</th>\n",
       "      <td>2013-01-02</td>\n",
       "      <td>1</td>\n",
       "      <td>1</td>\n",
       "      <td>11.0</td>\n",
       "      <td>2013</td>\n",
       "      <td>1</td>\n",
       "      <td>2</td>\n",
       "      <td>1</td>\n",
       "      <td>2</td>\n",
       "      <td>0</td>\n",
       "      <td>0</td>\n",
       "      <td>0</td>\n",
       "    </tr>\n",
       "    <tr>\n",
       "      <th>2</th>\n",
       "      <td>2013-01-03</td>\n",
       "      <td>1</td>\n",
       "      <td>1</td>\n",
       "      <td>14.0</td>\n",
       "      <td>2013</td>\n",
       "      <td>1</td>\n",
       "      <td>3</td>\n",
       "      <td>1</td>\n",
       "      <td>3</td>\n",
       "      <td>0</td>\n",
       "      <td>0</td>\n",
       "      <td>0</td>\n",
       "    </tr>\n",
       "    <tr>\n",
       "      <th>3</th>\n",
       "      <td>2013-01-04</td>\n",
       "      <td>1</td>\n",
       "      <td>1</td>\n",
       "      <td>13.0</td>\n",
       "      <td>2013</td>\n",
       "      <td>1</td>\n",
       "      <td>4</td>\n",
       "      <td>1</td>\n",
       "      <td>4</td>\n",
       "      <td>1</td>\n",
       "      <td>0</td>\n",
       "      <td>0</td>\n",
       "    </tr>\n",
       "    <tr>\n",
       "      <th>4</th>\n",
       "      <td>2013-01-05</td>\n",
       "      <td>1</td>\n",
       "      <td>1</td>\n",
       "      <td>10.0</td>\n",
       "      <td>2013</td>\n",
       "      <td>1</td>\n",
       "      <td>5</td>\n",
       "      <td>1</td>\n",
       "      <td>5</td>\n",
       "      <td>1</td>\n",
       "      <td>0</td>\n",
       "      <td>0</td>\n",
       "    </tr>\n",
       "  </tbody>\n",
       "</table>\n",
       "</div>"
      ],
      "text/plain": [
       "        date store item  sales  year  month  day_of_the_year  \\\n",
       "0 2013-01-01     1    1   13.0  2013      1                1   \n",
       "1 2013-01-02     1    1   11.0  2013      1                2   \n",
       "2 2013-01-03     1    1   14.0  2013      1                3   \n",
       "3 2013-01-04     1    1   13.0  2013      1                4   \n",
       "4 2013-01-05     1    1   10.0  2013      1                5   \n",
       "\n",
       "   week_of_the_year  day_of_the_week  is_weekend  is_month_start  is_month_end  \n",
       "0                 1                1           0               1             0  \n",
       "1                 1                2           0               0             0  \n",
       "2                 1                3           0               0             0  \n",
       "3                 1                4           1               0             0  \n",
       "4                 1                5           1               0             0  "
      ]
     },
     "execution_count": 21,
     "metadata": {},
     "output_type": "execute_result"
    }
   ],
   "source": [
    "full_df.head()"
   ]
  },
  {
   "cell_type": "code",
   "execution_count": 14,
   "metadata": {},
   "outputs": [],
   "source": [
    "full_df[\"year\"] = full_df[\"date\"].dt.year\n",
    "full_df[\"month\"] = full_df[\"date\"].dt.month\n",
    "full_df[\"day_of_the_year\"] = full_df[\"date\"].dt.dayofyear\n",
    "full_df[\"week_of_the_year\"] = full_df[\"date\"].dt.isocalendar().week\n",
    "full_df[\"day_of_the_week\"] = full_df[\"date\"].dt.dayofweek"
   ]
  },
  {
   "cell_type": "code",
   "execution_count": 20,
   "metadata": {},
   "outputs": [],
   "source": [
    "# 0-Monday and so on\n",
    "full_df[\"is_weekend\"] = full_df[\"date\"].dt.dayofweek // 4\n",
    "full_df[\"is_month_start\"] = full_df[\"date\"].dt.is_month_start.astype(int)\n",
    "full_df[\"is_month_end\"] = full_df[\"date\"].dt.is_month_end.astype(int)"
   ]
  },
  {
   "cell_type": "code",
   "execution_count": 31,
   "metadata": {},
   "outputs": [],
   "source": [
    "full_df['quarter'] = full_df['date'].dt.quarter"
   ]
  },
  {
   "cell_type": "code",
   "execution_count": 22,
   "metadata": {},
   "outputs": [
    {
     "data": {
      "text/plain": [
       "(53, 366)"
      ]
     },
     "execution_count": 22,
     "metadata": {},
     "output_type": "execute_result"
    }
   ],
   "source": [
    "full_df[\"week_of_the_year\"].max(), full_df[\"day_of_the_year\"].max()"
   ]
  },
  {
   "cell_type": "markdown",
   "metadata": {},
   "source": [
    "#### Cyclical features"
   ]
  },
  {
   "cell_type": "code",
   "execution_count": 23,
   "metadata": {},
   "outputs": [],
   "source": [
    "from sklearn.preprocessing import FunctionTransformer"
   ]
  },
  {
   "cell_type": "code",
   "execution_count": 27,
   "metadata": {},
   "outputs": [],
   "source": [
    "def sin_transformer(period):\n",
    "    return  lambda x: np.sin(x / period * 2 * np.pi)\n",
    "\n",
    "\n",
    "def cos_transformer(period):\n",
    "    return  lambda x: np.cos(x / period * 2 * np.pi)"
   ]
  },
  {
   "cell_type": "code",
   "execution_count": 32,
   "metadata": {},
   "outputs": [],
   "source": [
    "full_df[\"month_sin\"] = full_df[\"month\"].apply(sin_transformer(12))\n",
    "full_df[\"month_cos\"] = full_df[\"month\"].apply(cos_transformer(12))\n",
    "\n",
    "full_df[\"day_sin\"] = full_df[\"day_of_the_year\"].apply(sin_transformer(365))\n",
    "full_df[\"day_cos\"] = full_df[\"day_of_the_year\"].apply(cos_transformer(365))\n",
    "\n",
    "full_df[\"week_sin\"] = full_df[\"week_of_the_year\"].apply(sin_transformer(52))\n",
    "full_df[\"week_cos\"] = full_df[\"week_of_the_year\"].apply(cos_transformer(52))\n",
    "\n",
    "full_df[\"quarter_sin\"] = full_df[\"quarter\"].apply(sin_transformer(4))\n",
    "full_df[\"quarter_cos\"] = full_df[\"quarter\"].apply(cos_transformer(4))"
   ]
  },
  {
   "cell_type": "code",
   "execution_count": 33,
   "metadata": {},
   "outputs": [
    {
     "data": {
      "text/html": [
       "<div>\n",
       "<style scoped>\n",
       "    .dataframe tbody tr th:only-of-type {\n",
       "        vertical-align: middle;\n",
       "    }\n",
       "\n",
       "    .dataframe tbody tr th {\n",
       "        vertical-align: top;\n",
       "    }\n",
       "\n",
       "    .dataframe thead th {\n",
       "        text-align: right;\n",
       "    }\n",
       "</style>\n",
       "<table border=\"1\" class=\"dataframe\">\n",
       "  <thead>\n",
       "    <tr style=\"text-align: right;\">\n",
       "      <th></th>\n",
       "      <th>date</th>\n",
       "      <th>store</th>\n",
       "      <th>item</th>\n",
       "      <th>sales</th>\n",
       "      <th>year</th>\n",
       "      <th>month</th>\n",
       "      <th>day_of_the_year</th>\n",
       "      <th>week_of_the_year</th>\n",
       "      <th>day_of_the_week</th>\n",
       "      <th>is_weekend</th>\n",
       "      <th>is_month_start</th>\n",
       "      <th>is_month_end</th>\n",
       "      <th>month_sin</th>\n",
       "      <th>month_cos</th>\n",
       "      <th>day_sin</th>\n",
       "      <th>day_cos</th>\n",
       "      <th>week_sin</th>\n",
       "      <th>week_cos</th>\n",
       "      <th>quarter</th>\n",
       "      <th>quarter_sin</th>\n",
       "      <th>quarter_cos</th>\n",
       "    </tr>\n",
       "  </thead>\n",
       "  <tbody>\n",
       "    <tr>\n",
       "      <th>0</th>\n",
       "      <td>2013-01-01</td>\n",
       "      <td>1</td>\n",
       "      <td>1</td>\n",
       "      <td>13.0</td>\n",
       "      <td>2013</td>\n",
       "      <td>1</td>\n",
       "      <td>1</td>\n",
       "      <td>1</td>\n",
       "      <td>1</td>\n",
       "      <td>0</td>\n",
       "      <td>1</td>\n",
       "      <td>0</td>\n",
       "      <td>0.5</td>\n",
       "      <td>0.866025</td>\n",
       "      <td>0.017213</td>\n",
       "      <td>0.999852</td>\n",
       "      <td>0.120537</td>\n",
       "      <td>0.992709</td>\n",
       "      <td>1</td>\n",
       "      <td>1.0</td>\n",
       "      <td>6.123234e-17</td>\n",
       "    </tr>\n",
       "    <tr>\n",
       "      <th>1</th>\n",
       "      <td>2013-01-02</td>\n",
       "      <td>1</td>\n",
       "      <td>1</td>\n",
       "      <td>11.0</td>\n",
       "      <td>2013</td>\n",
       "      <td>1</td>\n",
       "      <td>2</td>\n",
       "      <td>1</td>\n",
       "      <td>2</td>\n",
       "      <td>0</td>\n",
       "      <td>0</td>\n",
       "      <td>0</td>\n",
       "      <td>0.5</td>\n",
       "      <td>0.866025</td>\n",
       "      <td>0.034422</td>\n",
       "      <td>0.999407</td>\n",
       "      <td>0.120537</td>\n",
       "      <td>0.992709</td>\n",
       "      <td>1</td>\n",
       "      <td>1.0</td>\n",
       "      <td>6.123234e-17</td>\n",
       "    </tr>\n",
       "    <tr>\n",
       "      <th>2</th>\n",
       "      <td>2013-01-03</td>\n",
       "      <td>1</td>\n",
       "      <td>1</td>\n",
       "      <td>14.0</td>\n",
       "      <td>2013</td>\n",
       "      <td>1</td>\n",
       "      <td>3</td>\n",
       "      <td>1</td>\n",
       "      <td>3</td>\n",
       "      <td>0</td>\n",
       "      <td>0</td>\n",
       "      <td>0</td>\n",
       "      <td>0.5</td>\n",
       "      <td>0.866025</td>\n",
       "      <td>0.051620</td>\n",
       "      <td>0.998667</td>\n",
       "      <td>0.120537</td>\n",
       "      <td>0.992709</td>\n",
       "      <td>1</td>\n",
       "      <td>1.0</td>\n",
       "      <td>6.123234e-17</td>\n",
       "    </tr>\n",
       "    <tr>\n",
       "      <th>3</th>\n",
       "      <td>2013-01-04</td>\n",
       "      <td>1</td>\n",
       "      <td>1</td>\n",
       "      <td>13.0</td>\n",
       "      <td>2013</td>\n",
       "      <td>1</td>\n",
       "      <td>4</td>\n",
       "      <td>1</td>\n",
       "      <td>4</td>\n",
       "      <td>1</td>\n",
       "      <td>0</td>\n",
       "      <td>0</td>\n",
       "      <td>0.5</td>\n",
       "      <td>0.866025</td>\n",
       "      <td>0.068802</td>\n",
       "      <td>0.997630</td>\n",
       "      <td>0.120537</td>\n",
       "      <td>0.992709</td>\n",
       "      <td>1</td>\n",
       "      <td>1.0</td>\n",
       "      <td>6.123234e-17</td>\n",
       "    </tr>\n",
       "    <tr>\n",
       "      <th>4</th>\n",
       "      <td>2013-01-05</td>\n",
       "      <td>1</td>\n",
       "      <td>1</td>\n",
       "      <td>10.0</td>\n",
       "      <td>2013</td>\n",
       "      <td>1</td>\n",
       "      <td>5</td>\n",
       "      <td>1</td>\n",
       "      <td>5</td>\n",
       "      <td>1</td>\n",
       "      <td>0</td>\n",
       "      <td>0</td>\n",
       "      <td>0.5</td>\n",
       "      <td>0.866025</td>\n",
       "      <td>0.085965</td>\n",
       "      <td>0.996298</td>\n",
       "      <td>0.120537</td>\n",
       "      <td>0.992709</td>\n",
       "      <td>1</td>\n",
       "      <td>1.0</td>\n",
       "      <td>6.123234e-17</td>\n",
       "    </tr>\n",
       "  </tbody>\n",
       "</table>\n",
       "</div>"
      ],
      "text/plain": [
       "        date store item  sales  year  month  day_of_the_year  \\\n",
       "0 2013-01-01     1    1   13.0  2013      1                1   \n",
       "1 2013-01-02     1    1   11.0  2013      1                2   \n",
       "2 2013-01-03     1    1   14.0  2013      1                3   \n",
       "3 2013-01-04     1    1   13.0  2013      1                4   \n",
       "4 2013-01-05     1    1   10.0  2013      1                5   \n",
       "\n",
       "   week_of_the_year  day_of_the_week  is_weekend  is_month_start  \\\n",
       "0                 1                1           0               1   \n",
       "1                 1                2           0               0   \n",
       "2                 1                3           0               0   \n",
       "3                 1                4           1               0   \n",
       "4                 1                5           1               0   \n",
       "\n",
       "   is_month_end  month_sin  month_cos   day_sin   day_cos  week_sin  week_cos  \\\n",
       "0             0        0.5   0.866025  0.017213  0.999852  0.120537  0.992709   \n",
       "1             0        0.5   0.866025  0.034422  0.999407  0.120537  0.992709   \n",
       "2             0        0.5   0.866025  0.051620  0.998667  0.120537  0.992709   \n",
       "3             0        0.5   0.866025  0.068802  0.997630  0.120537  0.992709   \n",
       "4             0        0.5   0.866025  0.085965  0.996298  0.120537  0.992709   \n",
       "\n",
       "   quarter  quarter_sin   quarter_cos  \n",
       "0        1          1.0  6.123234e-17  \n",
       "1        1          1.0  6.123234e-17  \n",
       "2        1          1.0  6.123234e-17  \n",
       "3        1          1.0  6.123234e-17  \n",
       "4        1          1.0  6.123234e-17  "
      ]
     },
     "execution_count": 33,
     "metadata": {},
     "output_type": "execute_result"
    }
   ],
   "source": [
    "full_df.head()"
   ]
  },
  {
   "cell_type": "markdown",
   "metadata": {},
   "source": [
    "#### Feature Engineering"
   ]
  },
  {
   "cell_type": "code",
   "execution_count": null,
   "metadata": {},
   "outputs": [],
   "source": [
    "full_df = full_df.sort_values([\"store\", \"item\", \"date\"], axis=0)"
   ]
  },
  {
   "cell_type": "code",
   "execution_count": null,
   "metadata": {},
   "outputs": [],
   "source": []
  },
  {
   "cell_type": "code",
   "execution_count": null,
   "metadata": {},
   "outputs": [],
   "source": []
  },
  {
   "cell_type": "code",
   "execution_count": null,
   "metadata": {},
   "outputs": [],
   "source": []
  },
  {
   "cell_type": "code",
   "execution_count": null,
   "metadata": {},
   "outputs": [],
   "source": []
  },
  {
   "cell_type": "code",
   "execution_count": null,
   "metadata": {},
   "outputs": [],
   "source": []
  },
  {
   "cell_type": "code",
   "execution_count": null,
   "metadata": {},
   "outputs": [],
   "source": []
  },
  {
   "cell_type": "code",
   "execution_count": null,
   "metadata": {},
   "outputs": [],
   "source": []
  },
  {
   "cell_type": "code",
   "execution_count": null,
   "metadata": {},
   "outputs": [],
   "source": []
  },
  {
   "cell_type": "code",
   "execution_count": null,
   "metadata": {},
   "outputs": [],
   "source": []
  },
  {
   "cell_type": "code",
   "execution_count": null,
   "metadata": {},
   "outputs": [],
   "source": []
  }
 ],
 "metadata": {
  "kernelspec": {
   "display_name": "Python 3 (ipykernel)",
   "language": "python",
   "name": "python3"
  },
  "language_info": {
   "codemirror_mode": {
    "name": "ipython",
    "version": 3
   },
   "file_extension": ".py",
   "mimetype": "text/x-python",
   "name": "python",
   "nbconvert_exporter": "python",
   "pygments_lexer": "ipython3",
   "version": "3.9.18"
  }
 },
 "nbformat": 4,
 "nbformat_minor": 2
}
